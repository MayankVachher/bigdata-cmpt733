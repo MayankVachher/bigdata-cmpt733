{
 "cells": [
  {
   "cell_type": "markdown",
   "metadata": {},
   "source": [
    "# Assignment 5 - Recognizing objects in images with deep learning"
   ]
  },
  {
   "cell_type": "markdown",
   "metadata": {},
   "source": [
    "## Goals"
   ]
  },
  {
   "cell_type": "markdown",
   "metadata": {},
   "source": [
    "In this assignment you will get to know the main ingredients of deep learning and get started using the GPUs available in the Big Data Lab.\n",
    "\n",
    "You'll learn to use\n",
    "\n",
    " * tensors\n",
    " * automatic differentiation\n",
    " * layered learners\n",
    " * p(re)trained networks for image classification.\n",
    "\n",
    "## Check the GPU setup\n",
    "\n",
    "You can either go and use a desktop in the big data lab or remote login to one of the machines via [CSIL CPU servers](http://www.sfu.ca/computing/about/support/csil/how-to-remote-access-to-csil.html).\n",
    "\n",
    "When you're at a machine run ``nvidia-smi`` to see the available card and its memory usage."
   ]
  },
  {
   "cell_type": "markdown",
   "metadata": {},
   "source": [
    "```\n",
    "$ nvidia-smi\n",
    "Mon Feb  5 08:03:15 2018       \n",
    "+-----------------------------------------------------------------------------+\n",
    "| NVIDIA-SMI 390.12                 Driver Version: 390.12                    |\n",
    "|-------------------------------+----------------------+----------------------+\n",
    "| GPU  Name        Persistence-M| Bus-Id        Disp.A | Volatile Uncorr. ECC |\n",
    "| Fan  Temp  Perf  Pwr:Usage/Cap|         Memory-Usage | GPU-Util  Compute M. |\n",
    "|===============================+======================+======================|\n",
    "|   0  GeForce GTX 105...  Off  | 00000000:01:00.0  On |                  N/A |\n",
    "| 45%   24C    P8    N/A /  75W |   3087MiB /  4038MiB |      0%      Default |\n",
    "+-------------------------------+----------------------+----------------------+\n",
    "                                                                               \n",
    "+-----------------------------------------------------------------------------+\n",
    "| Processes:                                                       GPU Memory |\n",
    "|  GPU       PID   Type   Process name                             Usage      |\n",
    "|=============================================================================|\n",
    "|    0      3627      G   /usr/lib/xorg/Xorg                           169MiB |\n",
    "|    0     10843      C   ...d/CMPT/big-data/tmp_py/dlenv/bin/python  2897MiB |\n",
    "+-----------------------------------------------------------------------------+\n",
    "\n",
    "(dlenv) sbergner@asb10928u-e04:~/Teaching$ pstree -ls 10843\n",
    "screen───bash───jupyter-noteboo───python─┬─4*[python]\n",
    "                                         └─26*[{python}]\n",
    "```"
   ]
  },
  {
   "cell_type": "markdown",
   "metadata": {},
   "source": [
    "This shows that we have an **NVIDIA GTX 1050 with 4G of RAM**. Also, you can see that I'm running a process (pid=10843) that currently takes up close to 3G of GPU memory. Inside a shell window you may use ``who``, ``ps -aux``, or ``pstree -ls <PID>`` to find out who to contact about your shared resources. In my case, it turns out that I'm running a jupyter notebook related to process 10843. Halting and closing the notebook frees up the memory. "
   ]
  },
  {
   "cell_type": "markdown",
   "metadata": {},
   "source": [
    "## Set up pytorch in the lab"
   ]
  },
  {
   "cell_type": "markdown",
   "metadata": {},
   "source": [
    "In the following we are going to use **[pytorch](http://pytorch.org)**, which received some praise recently for being faster than [tensorflow](http://tensorflow.org) and for also having a nice high-level API as NN modules that are similar to [Keras](https://keras.io/).\n",
    "\n",
    "As of Tue, Feb 6, the lab has a working pytorch setup in ```/opt/ancaconda3```, e.g. check for yourself by running ```conda list | grep torch```.\n",
    "\n",
    "However, if there are problems there is an alternative dlenv conda environment for you to use as shown below."
   ]
  },
  {
   "cell_type": "markdown",
   "metadata": {},
   "source": [
    "Either you load it directly\n",
    "```\n",
    "source activate /usr/shared/CMPT/big-data/tmp_py/dlenv\n",
    "```\n",
    "or you prepare\n",
    "```\n",
    "cd ~\n",
    "mkdir -p .conda/envs\n",
    "ln -s /usr/shared/CMPT/big-data/tmp_py/dlenv .conda/envs\n",
    "```\n",
    "and from thereon simply use\n",
    "```\n",
    "source activate dlenv\n",
    "```\n",
    "### Use our downloaded pre-built models\n",
    "Also, link the pre-built models that we already downloaded for you (about 1.6G):\n",
    "```\n",
    "mkdir -p ~/.torch/models\n",
    "ln -s /usr/shared/CMPT/big-data/tmp_py/.torch/models/* ~/.torch/models\n",
    "```"
   ]
  },
  {
   "cell_type": "markdown",
   "metadata": {},
   "source": [
    "## Learn about Pytorch usage"
   ]
  },
  {
   "cell_type": "markdown",
   "metadata": {},
   "source": [
    "To familiarize yourself with using pytorch, have a look at the [Examples](http://pytorch.org/tutorials/beginner/pytorch_with_examples.html)."
   ]
  },
  {
   "cell_type": "markdown",
   "metadata": {},
   "source": [
    "# Task 1: Finding rectangles"
   ]
  },
  {
   "cell_type": "markdown",
   "metadata": {},
   "source": [
    "A nice blog-post by [Johannes Rieke](https://towardsdatascience.com/object-detection-with-neural-networks-a4e2c46b4491) presents a simple setup from scratch that finds rectangles in a black & white image. In order to play with it, we just have to translate a few calls from Keras to PyTorch."
   ]
  },
  {
   "cell_type": "code",
   "execution_count": 152,
   "metadata": {},
   "outputs": [
    {
     "data": {
      "text/markdown": [
       "**Here is an example of the training data:**"
      ],
      "text/plain": [
       "<IPython.core.display.Markdown object>"
      ]
     },
     "metadata": {},
     "output_type": "display_data"
    },
    {
     "data": {
      "image/png": "[encoded data removed]",
      "text/plain": [
       "<matplotlib.figure.Figure at 0x7f5216b0e2e8>"
      ]
     },
     "metadata": {},
     "output_type": "display_data"
    }
   ],
   "source": [
    "import torch\n",
    "import torch.nn as nn\n",
    "from torch.autograd import Variable\n",
    "import numpy as np\n",
    "import matplotlib.pyplot as plt\n",
    "import matplotlib\n",
    "from IPython.display import display, Markdown\n",
    "\n",
    "%matplotlib inline\n",
    "\n",
    "# Create images with random rectangles and bounding boxes. \n",
    "num_imgs = 50000\n",
    "\n",
    "img_size = 8\n",
    "min_object_size = 1\n",
    "max_object_size = 4\n",
    "num_objects = 1\n",
    "\n",
    "bboxes = np.zeros((num_imgs, num_objects, 4))\n",
    "imgs = np.zeros((num_imgs, img_size, img_size))  # set background to 0\n",
    "\n",
    "for i_img in range(num_imgs):\n",
    "    for i_object in range(num_objects):\n",
    "        w, h = np.random.randint(min_object_size, max_object_size, size=2)\n",
    "        x = np.random.randint(0, img_size - w)\n",
    "        y = np.random.randint(0, img_size - h)\n",
    "        imgs[i_img, x:x+w, y:y+h] = 1.  # set rectangle to 1\n",
    "        bboxes[i_img, i_object] = [x, y, w, h]\n",
    "        \n",
    "imgs.shape, bboxes.shape\n",
    "\n",
    "display(Markdown('**Here is an example of the training data:**'))\n",
    "i = 0\n",
    "plt.imshow(imgs[i].T, cmap='Greys', interpolation='none', origin='lower', extent=[0, img_size, 0, img_size])\n",
    "for bbox in bboxes[i]:\n",
    "    plt.gca().add_patch(matplotlib.patches.Rectangle((bbox[0], bbox[1]), bbox[2], bbox[3], ec='r', fc='none'))"
   ]
  },
  {
   "cell_type": "code",
   "execution_count": 153,
   "metadata": {},
   "outputs": [
    {
     "name": "stdout",
     "output_type": "stream",
     "text": [
      "(50000, 64) 8.670841822322473e-18 1.0\n",
      "(50000, 4) 0.28148125 0.1751281485039955\n"
     ]
    }
   ],
   "source": [
    "# Reshape and normalize the image data to mean 0 and std 1. \n",
    "X = (imgs.reshape(num_imgs, -1) - np.mean(imgs)) / np.std(imgs)\n",
    "print(X.shape, np.mean(X), np.std(X))\n",
    "\n",
    "# Normalize x, y, w, h by img_size, so that all values are between 0 and 1.\n",
    "# Important: Do not shift to negative values (e.g. by setting to mean 0), because the IOU calculation needs positive w and h.\n",
    "y = bboxes.reshape(num_imgs, -1) / img_size\n",
    "print(y.shape, np.mean(y), np.std(y))\n",
    "\n",
    "# Split training and test.\n",
    "i = int(0.8 * num_imgs)\n",
    "train_X = X[:i]\n",
    "test_X = X[i:]\n",
    "train_y = y[:i]\n",
    "test_y = y[i:]\n",
    "test_imgs = imgs[i:]\n",
    "test_bboxes = bboxes[i:]"
   ]
  },
  {
   "cell_type": "markdown",
   "metadata": {},
   "source": [
    "## Task 1a\n",
    "Construct a Pytorch model that resembles the Keras one in the original blog post, i.e. have a fully connected, hidden layer with 200 neurons, ReLU nonlinearity and dropout rate of 20%."
   ]
  },
  {
   "cell_type": "code",
   "execution_count": 154,
   "metadata": {},
   "outputs": [],
   "source": [
    "model = torch.nn.Sequential(\n",
    "    torch.nn.Linear(X.shape[1], 200),\n",
    "    torch.nn.ReLU(),\n",
    "    torch.nn.Dropout(p=0.2, inplace=False),\n",
    "    torch.nn.Linear(200, y.shape[1]),\n",
    ")\n",
    "\n",
    "model = model.cuda()"
   ]
  },
  {
   "cell_type": "code",
   "execution_count": 155,
   "metadata": {},
   "outputs": [],
   "source": [
    "optimizer = torch.optim.Adadelta(model.parameters(), rho=0.95, eps=1e-07)\n",
    "loss_fn = torch.nn.MSELoss(size_average=False)"
   ]
  },
  {
   "cell_type": "code",
   "execution_count": 156,
   "metadata": {},
   "outputs": [],
   "source": [
    "inputs = Variable(torch.Tensor(train_X)).cuda()\n",
    "labels = Variable(torch.Tensor(train_y)).cuda()"
   ]
  },
  {
   "cell_type": "code",
   "execution_count": 157,
   "metadata": {},
   "outputs": [],
   "source": [
    "phase = 'train'\n",
    "running_loss = 0.0\n",
    "running_corrects = 0\n",
    "\n",
    "loss_record = []\n",
    "for epoch in range(2000):\n",
    "    \n",
    "    optimizer.zero_grad()\n",
    "\n",
    "    outputs = model(inputs)\n",
    "\n",
    "    loss = loss_fn(outputs, labels)\n",
    "\n",
    "    if phase == 'train':\n",
    "        loss.backward()\n",
    "        optimizer.step()\n",
    "\n",
    "    running_loss += loss.data[0] * inputs.size(0)\n",
    "    epoch_loss = running_loss / inputs.shape[0] / (epoch+1)\n",
    "    loss_record.append(epoch_loss)"
   ]
  },
  {
   "cell_type": "code",
   "execution_count": 158,
   "metadata": {},
   "outputs": [
    {
     "data": {
      "text/plain": [
       "[<matplotlib.lines.Line2D at 0x7f52164f5c50>]"
      ]
     },
     "execution_count": 158,
     "metadata": {},
     "output_type": "execute_result"
    },
    {
     "data": {
      "image/png": "[encoded data removed]",
      "text/plain": [
       "<matplotlib.figure.Figure at 0x7f52166a8828>"
      ]
     },
     "metadata": {},
     "output_type": "display_data"
    }
   ],
   "source": [
    "plt.plot(loss_record)"
   ]
  },
  {
   "cell_type": "code",
   "execution_count": 159,
   "metadata": {},
   "outputs": [
    {
     "data": {
      "text/plain": [
       "(10000, 1, 4)"
      ]
     },
     "execution_count": 159,
     "metadata": {},
     "output_type": "execute_result"
    }
   ],
   "source": [
    "# Predict bounding boxes on the test images.\n",
    "pred_y = model(Variable(torch.Tensor(test_X)).cuda())\n",
    "pred_bboxes = pred_y.cpu().data * img_size\n",
    "pred_bboxes = pred_bboxes.numpy().reshape(len(pred_bboxes), num_objects, -1)\n",
    "pred_bboxes.shape"
   ]
  },
  {
   "cell_type": "code",
   "execution_count": 160,
   "metadata": {},
   "outputs": [],
   "source": [
    "def IOU(bbox1, bbox2):\n",
    "    '''Calculate overlap between two bounding boxes [x, y, w, h] as the area of intersection over the area of unity'''\n",
    "    x1, y1, w1, h1 = bbox1[0], bbox1[1], bbox1[2], bbox1[3]\n",
    "    x2, y2, w2, h2 = bbox2[0], bbox2[1], bbox2[2], bbox2[3]\n",
    "\n",
    "    w_I = min(x1 + w1, x2 + w2) - max(x1, x2)\n",
    "    h_I = min(y1 + h1, y2 + h2) - max(y1, y2)\n",
    "    if w_I <= 0 or h_I <= 0:  # no overlap\n",
    "        return 0.\n",
    "    I = w_I * h_I\n",
    "    U = w1 * h1 + w2 * h2 - I\n",
    "    return I / U"
   ]
  },
  {
   "cell_type": "code",
   "execution_count": 161,
   "metadata": {},
   "outputs": [
    {
     "data": {
      "text/plain": [
       "0.6128695160681882"
      ]
     },
     "execution_count": 161,
     "metadata": {},
     "output_type": "execute_result"
    },
    {
     "data": {
      "image/png": "[encoded data removed]",
      "text/plain": [
       "<matplotlib.figure.Figure at 0x7f52164c7a58>"
      ]
     },
     "metadata": {},
     "output_type": "display_data"
    }
   ],
   "source": [
    "# Show a few images and predicted bounding boxes from the test dataset. \n",
    "plt.figure(figsize=(12, 3))\n",
    "for i_subplot in range(1, 5):\n",
    "    plt.subplot(1, 4, i_subplot)\n",
    "    i = np.random.randint(len(test_imgs))\n",
    "    plt.imshow(test_imgs[i].T, cmap='Greys', interpolation='none', origin='lower', extent=[0, img_size, 0, img_size])\n",
    "    for pred_bbox, exp_bbox in zip(pred_bboxes[i], test_bboxes[i]):\n",
    "        plt.gca().add_patch(matplotlib.patches.Rectangle((pred_bbox[0], pred_bbox[1]), pred_bbox[2], pred_bbox[3], ec='r', fc='none'))\n",
    "        plt.annotate('IOU: {:.2f}'.format(IOU(pred_bbox, exp_bbox)), (pred_bbox[0], pred_bbox[1]+pred_bbox[3]+0.2), color='r')\n",
    "# Calculate the mean IOU (overlap) between the predicted and expected bounding boxes on the test dataset. \n",
    "summed_IOU = 0.\n",
    "for pred_bbox, test_bbox in zip(pred_bboxes.reshape(-1, 4), test_bboxes.reshape(-1, 4)):\n",
    "    summed_IOU += IOU(pred_bbox, test_bbox)\n",
    "mean_IOU = summed_IOU / len(pred_bboxes)\n",
    "mean_IOU"
   ]
  },
  {
   "cell_type": "markdown",
   "metadata": {},
   "source": [
    "## Task 1b:\n",
    "Move the computation that is currently done on the CPU over to the GPU using CUDA and increase the number of epochs. Improve the training setup until you reach an IOU of above 0.6.\n",
    "You can make the changes that move computation to the GPU directly in the cells above."
   ]
  },
  {
   "cell_type": "markdown",
   "metadata": {},
   "source": [
    "# Task 2: Use a pretrained model"
   ]
  },
  {
   "cell_type": "markdown",
   "metadata": {},
   "source": [
    "As mentioned in class deep learning systems are hardly ever developed from scratch, but usually work by refining existing solutions to similar problems. For the following task, we'll work through the \n",
    "[Transfer learning tutorial](http://pytorch.org/tutorials/beginner/transfer_learning_tutorial.html), which also provides a ready-made jupyter notebook.\n",
    "\n",
    " 1. Download the notebook and get it to run in your environment. This also involves downloading the bees and ants dataset.\n",
    " 2. Perform your own training with the provided setup.\n",
    " 3. Change the currently chosen pretrained network (resnet) to a different one. At least try out VGG and one other type.\n",
    " 4. Load a picture that you took yourself and classify it with an unmodified pretrained network (e.g. the original VGG network) that can detect one out of 1000 classes.\n",
    "\n",
    "### Hints for step 3\n",
    "\n",
    "Focus on the section **Conv net as fixed feature xtractor** of the transfer learning tutorial.\n",
    "First, change the line\n",
    "```\n",
    "model_conv = torchvision.models.resnet18(pretrained=True)\n",
    "```\n",
    "to load VGG19 instead.\n",
    "\n",
    "Next, print out the new model_conv and identify the last step of the classification. This is not named the same way as the ```fc``` layer for resnet, but works similarity. Identify the module that contains the last classification step of the VGG model, which identifies one out of 1000 classes. Change that one into identifying 2 classes only (i.e. the ants and bees that you should start with).\n",
    "\n",
    "To change the structure of a hypothetical sequential component called ```module_name``` and modify its last layer into a DifferentLayer type, you can use this syntax.\n",
    "\n",
    "```\n",
    "nn.Sequential(*list(model_conv.module_name.children())[:-1] +\n",
    "                     [nn.DifferentLayer(...)])\n",
    "```\n",
    "and replace the old model_conv.module_name with the differently structured version."
   ]
  },
  {
   "cell_type": "markdown",
   "metadata": {},
   "source": [
    "### Imports"
   ]
  },
  {
   "cell_type": "code",
   "execution_count": 1,
   "metadata": {},
   "outputs": [],
   "source": [
    "# License: BSD\n",
    "# Author: Sasank Chilamkurthy\n",
    "\n",
    "from __future__ import print_function, division\n",
    "\n",
    "import torch\n",
    "import torch.nn as nn\n",
    "import torch.optim as optim\n",
    "from torch.optim import lr_scheduler\n",
    "from torch.autograd import Variable\n",
    "import numpy as np\n",
    "import torchvision\n",
    "from torchvision import datasets, models, transforms\n",
    "import matplotlib.pyplot as plt\n",
    "import time\n",
    "import os\n",
    "import copy\n",
    "\n",
    "plt.ion()   # interactive mode"
   ]
  },
  {
   "cell_type": "markdown",
   "metadata": {},
   "source": [
    "### Loading Data"
   ]
  },
  {
   "cell_type": "code",
   "execution_count": 4,
   "metadata": {},
   "outputs": [
    {
     "name": "stderr",
     "output_type": "stream",
     "text": [
      "/usr/shared/CMPT/big-data/tmp_py/dlenv/lib/python3.6/site-packages/torchvision/transforms/transforms.py:397: UserWarning: The use of the transforms.RandomSizedCrop transform is deprecated, please use transforms.RandomResizedCrop instead.\n",
      "  \"please use transforms.RandomResizedCrop instead.\")\n",
      "/usr/shared/CMPT/big-data/tmp_py/dlenv/lib/python3.6/site-packages/torchvision/transforms/transforms.py:156: UserWarning: The use of the transforms.Scale transform is deprecated, please use transforms.Resize instead.\n",
      "  \"please use transforms.Resize instead.\")\n"
     ]
    }
   ],
   "source": [
    "# Data augmentation and normalization for training\n",
    "# Just normalization for validation\n",
    "data_transforms = {\n",
    "    'train': transforms.Compose([\n",
    "        transforms.RandomSizedCrop(224),\n",
    "        transforms.RandomHorizontalFlip(),\n",
    "        transforms.ToTensor(),\n",
    "        transforms.Normalize([0.485, 0.456, 0.406], [0.229, 0.224, 0.225])\n",
    "    ]),\n",
    "    'val': transforms.Compose([\n",
    "        transforms.Scale(256),\n",
    "        transforms.CenterCrop(224),\n",
    "        transforms.ToTensor(),\n",
    "        transforms.Normalize([0.485, 0.456, 0.406], [0.229, 0.224, 0.225])\n",
    "    ]),\n",
    "}\n",
    "\n",
    "data_dir = 'hymenoptera_data'\n",
    "image_datasets = {x: datasets.ImageFolder(os.path.join(data_dir, x),\n",
    "                                          data_transforms[x])\n",
    "                  for x in ['train', 'val']}\n",
    "dataloaders = {x: torch.utils.data.DataLoader(image_datasets[x], batch_size=4,\n",
    "                                             shuffle=True, num_workers=4)\n",
    "              for x in ['train', 'val']}\n",
    "dataset_sizes = {x: len(image_datasets[x]) for x in ['train', 'val']}\n",
    "class_names = image_datasets['train'].classes\n",
    "\n",
    "use_gpu = torch.cuda.is_available()"
   ]
  },
  {
   "cell_type": "code",
   "execution_count": 5,
   "metadata": {},
   "outputs": [
    {
     "data": {
      "image/png": "[encoded data removed]",
      "text/plain": [
       "<matplotlib.figure.Figure at 0x7f2d981937b8>"
      ]
     },
     "metadata": {},
     "output_type": "display_data"
    }
   ],
   "source": [
    "def imshow(inp, title=None):\n",
    "    \"\"\"Imshow for Tensor.\"\"\"\n",
    "    inp = inp.numpy().transpose((1, 2, 0))\n",
    "    mean = np.array([0.485, 0.456, 0.406])\n",
    "    std = np.array([0.229, 0.224, 0.225])\n",
    "    inp = std * inp + mean\n",
    "    inp = np.clip(inp, 0, 1)\n",
    "    plt.imshow(inp)\n",
    "    if title is not None:\n",
    "        plt.title(title)\n",
    "    plt.pause(0.001)  # pause a bit so that plots are updated\n",
    "\n",
    "\n",
    "# Get a batch of training data\n",
    "inputs, classes = next(iter(dataloaders['train']))\n",
    "\n",
    "# Make a grid from batch\n",
    "out = torchvision.utils.make_grid(inputs)\n",
    "\n",
    "imshow(out, title=[class_names[x] for x in classes])"
   ]
  },
  {
   "cell_type": "markdown",
   "metadata": {},
   "source": [
    "### Train the model"
   ]
  },
  {
   "cell_type": "code",
   "execution_count": 6,
   "metadata": {},
   "outputs": [],
   "source": [
    "def train_model(model, criterion, optimizer, scheduler, num_epochs=25):\n",
    "    since = time.time()\n",
    "\n",
    "    best_model_wts = copy.deepcopy(model.state_dict())\n",
    "    best_acc = 0.0\n",
    "\n",
    "    for epoch in range(num_epochs):\n",
    "        print('Epoch {}/{}'.format(epoch, num_epochs - 1))\n",
    "        print('-' * 10)\n",
    "\n",
    "        # Each epoch has a training and validation phase\n",
    "        for phase in ['train', 'val']:\n",
    "            if phase == 'train':\n",
    "                scheduler.step()\n",
    "                model.train(True)  # Set model to training mode\n",
    "            else:\n",
    "                model.train(False)  # Set model to evaluate mode\n",
    "\n",
    "            running_loss = 0.0\n",
    "            running_corrects = 0\n",
    "\n",
    "            # Iterate over data.\n",
    "            for data in dataloaders[phase]:\n",
    "                # get the inputs\n",
    "                inputs, labels = data\n",
    "\n",
    "                # wrap them in Variable\n",
    "                if use_gpu:\n",
    "                    inputs = Variable(inputs.cuda())\n",
    "                    labels = Variable(labels.cuda())\n",
    "                else:\n",
    "                    inputs, labels = Variable(inputs), Variable(labels)\n",
    "\n",
    "                # zero the parameter gradients\n",
    "                optimizer.zero_grad()\n",
    "\n",
    "                # forward\n",
    "                outputs = model(inputs)\n",
    "                _, preds = torch.max(outputs.data, 1)\n",
    "                loss = criterion(outputs, labels)\n",
    "\n",
    "                # backward + optimize only if in training phase\n",
    "                if phase == 'train':\n",
    "                    loss.backward()\n",
    "                    optimizer.step()\n",
    "\n",
    "                # statistics\n",
    "                running_loss += loss.data[0] * inputs.size(0)\n",
    "                running_corrects += torch.sum(preds == labels.data)\n",
    "\n",
    "            epoch_loss = running_loss / dataset_sizes[phase]\n",
    "            epoch_acc = running_corrects / dataset_sizes[phase]\n",
    "\n",
    "            print('{} Loss: {:.4f} Acc: {:.4f}'.format(\n",
    "                phase, epoch_loss, epoch_acc))\n",
    "\n",
    "            # deep copy the model\n",
    "            if phase == 'val' and epoch_acc > best_acc:\n",
    "                best_acc = epoch_acc\n",
    "                best_model_wts = copy.deepcopy(model.state_dict())\n",
    "\n",
    "        print()\n",
    "\n",
    "    time_elapsed = time.time() - since\n",
    "    print('Training complete in {:.0f}m {:.0f}s'.format(\n",
    "        time_elapsed // 60, time_elapsed % 60))\n",
    "    print('Best val Acc: {:4f}'.format(best_acc))\n",
    "\n",
    "    # load best model weights\n",
    "    model.load_state_dict(best_model_wts)\n",
    "    return model\n",
    "\n",
    "def visualize_model(model, num_images=6):\n",
    "    images_so_far = 0\n",
    "    fig = plt.figure()\n",
    "\n",
    "    for i, data in enumerate(dataloaders['val']):\n",
    "        inputs, labels = data\n",
    "        if use_gpu:\n",
    "            inputs, labels = Variable(inputs.cuda()), Variable(labels.cuda())\n",
    "        else:\n",
    "            inputs, labels = Variable(inputs), Variable(labels)\n",
    "\n",
    "        outputs = model(inputs)\n",
    "        _, preds = torch.max(outputs.data, 1)\n",
    "\n",
    "        for j in range(inputs.size()[0]):\n",
    "            images_so_far += 1\n",
    "            ax = plt.subplot(num_images//2, 2, images_so_far)\n",
    "            ax.axis('off')\n",
    "            ax.set_title('predicted: {}'.format(class_names[preds[j]]))\n",
    "            imshow(inputs.cpu().data[j])\n",
    "\n",
    "            if images_so_far == num_images:\n",
    "                return"
   ]
  },
  {
   "cell_type": "code",
   "execution_count": 7,
   "metadata": {},
   "outputs": [],
   "source": [
    "model_ft = models.resnet18(pretrained=True)\n",
    "num_ftrs = model_ft.fc.in_features\n",
    "model_ft.fc = nn.Linear(num_ftrs, 2)\n",
    "\n",
    "if use_gpu:\n",
    "    model_ft = model_ft.cuda()\n",
    "\n",
    "criterion = nn.CrossEntropyLoss()\n",
    "\n",
    "# Observe that all parameters are being optimized\n",
    "optimizer_ft = optim.SGD(model_ft.parameters(), lr=0.001, momentum=0.9)\n",
    "\n",
    "# Decay LR by a factor of 0.1 every 7 epochs\n",
    "exp_lr_scheduler = lr_scheduler.StepLR(optimizer_ft, step_size=7, gamma=0.1)"
   ]
  },
  {
   "cell_type": "code",
   "execution_count": 8,
   "metadata": {
    "scrolled": true
   },
   "outputs": [
    {
     "name": "stdout",
     "output_type": "stream",
     "text": [
      "Epoch 0/24\n",
      "----------\n",
      "train Loss: 0.5614 Acc: 0.7213\n",
      "val Loss: 0.2069 Acc: 0.9216\n",
      "\n",
      "Epoch 1/24\n",
      "----------\n",
      "train Loss: 0.4820 Acc: 0.7992\n",
      "val Loss: 0.5640 Acc: 0.8105\n",
      "\n",
      "Epoch 2/24\n",
      "----------\n",
      "train Loss: 0.5388 Acc: 0.7951\n",
      "val Loss: 0.4443 Acc: 0.8301\n",
      "\n",
      "Epoch 3/24\n",
      "----------\n",
      "train Loss: 0.5226 Acc: 0.8033\n",
      "val Loss: 1.3459 Acc: 0.5817\n",
      "\n",
      "Epoch 4/24\n",
      "----------\n",
      "train Loss: 0.4752 Acc: 0.8115\n",
      "val Loss: 0.4865 Acc: 0.8039\n",
      "\n",
      "Epoch 5/24\n",
      "----------\n",
      "train Loss: 0.5870 Acc: 0.8074\n",
      "val Loss: 0.8760 Acc: 0.7582\n",
      "\n",
      "Epoch 6/24\n",
      "----------\n",
      "train Loss: 0.4339 Acc: 0.8156\n",
      "val Loss: 0.2809 Acc: 0.9020\n",
      "\n",
      "Epoch 7/24\n",
      "----------\n",
      "train Loss: 0.3757 Acc: 0.8402\n",
      "val Loss: 0.2224 Acc: 0.9085\n",
      "\n",
      "Epoch 8/24\n",
      "----------\n",
      "train Loss: 0.4118 Acc: 0.8156\n",
      "val Loss: 0.2552 Acc: 0.8824\n",
      "\n",
      "Epoch 9/24\n",
      "----------\n",
      "train Loss: 0.3125 Acc: 0.8648\n",
      "val Loss: 0.2100 Acc: 0.9085\n",
      "\n",
      "Epoch 10/24\n",
      "----------\n",
      "train Loss: 0.4151 Acc: 0.7992\n",
      "val Loss: 0.2313 Acc: 0.9020\n",
      "\n",
      "Epoch 11/24\n",
      "----------\n",
      "train Loss: 0.3316 Acc: 0.8648\n",
      "val Loss: 0.2087 Acc: 0.9020\n",
      "\n",
      "Epoch 12/24\n",
      "----------\n",
      "train Loss: 0.2724 Acc: 0.8811\n",
      "val Loss: 0.2163 Acc: 0.9085\n",
      "\n",
      "Epoch 13/24\n",
      "----------\n",
      "train Loss: 0.3198 Acc: 0.8730\n",
      "val Loss: 0.2268 Acc: 0.9020\n",
      "\n",
      "Epoch 14/24\n",
      "----------\n",
      "train Loss: 0.3033 Acc: 0.8525\n",
      "val Loss: 0.2202 Acc: 0.9281\n",
      "\n",
      "Epoch 15/24\n",
      "----------\n",
      "train Loss: 0.2009 Acc: 0.9467\n",
      "val Loss: 0.2229 Acc: 0.9020\n",
      "\n",
      "Epoch 16/24\n",
      "----------\n",
      "train Loss: 0.3113 Acc: 0.8730\n",
      "val Loss: 0.2385 Acc: 0.9085\n",
      "\n",
      "Epoch 17/24\n",
      "----------\n",
      "train Loss: 0.3266 Acc: 0.8566\n",
      "val Loss: 0.2113 Acc: 0.9150\n",
      "\n",
      "Epoch 18/24\n",
      "----------\n",
      "train Loss: 0.3001 Acc: 0.8607\n",
      "val Loss: 0.2068 Acc: 0.9216\n",
      "\n",
      "Epoch 19/24\n",
      "----------\n",
      "train Loss: 0.3370 Acc: 0.8607\n",
      "val Loss: 0.2097 Acc: 0.9216\n",
      "\n",
      "Epoch 20/24\n",
      "----------\n",
      "train Loss: 0.2474 Acc: 0.9098\n",
      "val Loss: 0.2255 Acc: 0.9216\n",
      "\n",
      "Epoch 21/24\n",
      "----------\n",
      "train Loss: 0.2418 Acc: 0.8852\n",
      "val Loss: 0.2062 Acc: 0.9085\n",
      "\n",
      "Epoch 22/24\n",
      "----------\n",
      "train Loss: 0.3265 Acc: 0.8566\n",
      "val Loss: 0.1984 Acc: 0.9150\n",
      "\n",
      "Epoch 23/24\n",
      "----------\n",
      "train Loss: 0.2747 Acc: 0.8770\n",
      "val Loss: 0.2088 Acc: 0.9216\n",
      "\n",
      "Epoch 24/24\n",
      "----------\n",
      "train Loss: 0.3318 Acc: 0.8566\n",
      "val Loss: 0.2032 Acc: 0.9150\n",
      "\n",
      "Training complete in 1m 38s\n",
      "Best val Acc: 0.928105\n"
     ]
    }
   ],
   "source": [
    "model_ft = train_model(model_ft, criterion, optimizer_ft, exp_lr_scheduler,\n",
    "                       num_epochs=25)"
   ]
  },
  {
   "cell_type": "code",
   "execution_count": null,
   "metadata": {},
   "outputs": [],
   "source": [
    "visualize_model(model_ft)"
   ]
  },
  {
   "cell_type": "markdown",
   "metadata": {},
   "source": [
    "### Change current pretrained network"
   ]
  },
  {
   "cell_type": "markdown",
   "metadata": {},
   "source": [
    "##### VGG"
   ]
  },
  {
   "cell_type": "code",
   "execution_count": 8,
   "metadata": {},
   "outputs": [],
   "source": [
    "model_conv = torchvision.models.vgg19(pretrained=True)\n",
    "for param in model_conv.parameters():\n",
    "    param.requires_grad = False\n",
    "\n",
    "# print(model_conv)\n",
    "# Parameters of newly constructed modules have requires_grad=True by default\n",
    "\n",
    "model_conv.classifier[6].out_features = 2\n",
    "for param in model_conv.classifier[6].parameters():\n",
    "    param.requires_grad = True\n",
    "\n",
    "if use_gpu:\n",
    "    model_conv = model_conv.cuda()\n",
    "\n",
    "criterion = nn.CrossEntropyLoss()\n",
    "\n",
    "# Observe that only parameters of final layer are being optimized as\n",
    "# opoosed to before.\n",
    "optimizer_conv = optim.SGD(model_conv.classifier[6].parameters(), lr=0.001, momentum=0.9)\n",
    "\n",
    "# Decay LR by a factor of 0.1 every 7 epochs\n",
    "exp_lr_scheduler = lr_scheduler.StepLR(optimizer_conv, step_size=7, gamma=0.1)"
   ]
  },
  {
   "cell_type": "code",
   "execution_count": 9,
   "metadata": {
    "scrolled": true
   },
   "outputs": [
    {
     "name": "stdout",
     "output_type": "stream",
     "text": [
      "Epoch 0/24\n",
      "----------\n",
      "train Loss: 2.2973 Acc: 0.7541\n",
      "val Loss: 0.2414 Acc: 0.9608\n",
      "\n",
      "Epoch 1/24\n",
      "----------\n",
      "train Loss: 0.1432 Acc: 0.9549\n",
      "val Loss: 0.1518 Acc: 0.9739\n",
      "\n",
      "Epoch 2/24\n",
      "----------\n",
      "train Loss: 0.1250 Acc: 0.9385\n",
      "val Loss: 0.1327 Acc: 0.9804\n",
      "\n",
      "Epoch 3/24\n",
      "----------\n",
      "train Loss: 0.2350 Acc: 0.9385\n",
      "val Loss: 0.1098 Acc: 0.9869\n",
      "\n",
      "Epoch 4/24\n",
      "----------\n",
      "train Loss: 0.1449 Acc: 0.9508\n",
      "val Loss: 0.1359 Acc: 0.9739\n",
      "\n",
      "Epoch 5/24\n",
      "----------\n",
      "train Loss: 0.1468 Acc: 0.9508\n",
      "val Loss: 0.1130 Acc: 0.9739\n",
      "\n",
      "Epoch 6/24\n",
      "----------\n",
      "train Loss: 0.0890 Acc: 0.9713\n",
      "val Loss: 0.1473 Acc: 0.9739\n",
      "\n",
      "Epoch 7/24\n",
      "----------\n",
      "train Loss: 0.0856 Acc: 0.9672\n",
      "val Loss: 0.1293 Acc: 0.9739\n",
      "\n",
      "Epoch 8/24\n",
      "----------\n",
      "train Loss: 0.1201 Acc: 0.9672\n",
      "val Loss: 0.1215 Acc: 0.9739\n",
      "\n",
      "Epoch 9/24\n",
      "----------\n",
      "train Loss: 0.1458 Acc: 0.9590\n",
      "val Loss: 0.1105 Acc: 0.9804\n",
      "\n",
      "Epoch 10/24\n",
      "----------\n",
      "train Loss: 0.1022 Acc: 0.9549\n",
      "val Loss: 0.1112 Acc: 0.9804\n",
      "\n",
      "Epoch 11/24\n",
      "----------\n",
      "train Loss: 0.1276 Acc: 0.9549\n",
      "val Loss: 0.1066 Acc: 0.9869\n",
      "\n",
      "Epoch 12/24\n",
      "----------\n",
      "train Loss: 0.0772 Acc: 0.9795\n",
      "val Loss: 0.1072 Acc: 0.9869\n",
      "\n",
      "Epoch 13/24\n",
      "----------\n",
      "train Loss: 0.0836 Acc: 0.9713\n",
      "val Loss: 0.1101 Acc: 0.9804\n",
      "\n",
      "Epoch 14/24\n",
      "----------\n",
      "train Loss: 0.0819 Acc: 0.9631\n",
      "val Loss: 0.1098 Acc: 0.9804\n",
      "\n",
      "Epoch 15/24\n",
      "----------\n",
      "train Loss: 0.1117 Acc: 0.9590\n",
      "val Loss: 0.1093 Acc: 0.9804\n",
      "\n",
      "Epoch 16/24\n",
      "----------\n",
      "train Loss: 0.0721 Acc: 0.9754\n",
      "val Loss: 0.1089 Acc: 0.9804\n",
      "\n",
      "Epoch 17/24\n",
      "----------\n",
      "train Loss: 0.1703 Acc: 0.9590\n",
      "val Loss: 0.1086 Acc: 0.9804\n",
      "\n",
      "Epoch 18/24\n",
      "----------\n",
      "train Loss: 0.1640 Acc: 0.9467\n",
      "val Loss: 0.1087 Acc: 0.9804\n",
      "\n",
      "Epoch 19/24\n",
      "----------\n",
      "train Loss: 0.1109 Acc: 0.9672\n",
      "val Loss: 0.1087 Acc: 0.9804\n",
      "\n",
      "Epoch 20/24\n",
      "----------\n",
      "train Loss: 0.1147 Acc: 0.9631\n",
      "val Loss: 0.1090 Acc: 0.9804\n",
      "\n",
      "Epoch 21/24\n",
      "----------\n",
      "train Loss: 0.1320 Acc: 0.9631\n",
      "val Loss: 0.1090 Acc: 0.9804\n",
      "\n",
      "Epoch 22/24\n",
      "----------\n",
      "train Loss: 0.0918 Acc: 0.9754\n",
      "val Loss: 0.1091 Acc: 0.9804\n",
      "\n",
      "Epoch 23/24\n",
      "----------\n",
      "train Loss: 0.0658 Acc: 0.9754\n",
      "val Loss: 0.1091 Acc: 0.9804\n",
      "\n",
      "Epoch 24/24\n",
      "----------\n",
      "train Loss: 0.1006 Acc: 0.9713\n",
      "val Loss: 0.1091 Acc: 0.9804\n",
      "\n",
      "Training complete in 3m 43s\n",
      "Best val Acc: 0.986928\n"
     ]
    }
   ],
   "source": [
    "model_conv = train_model(model_conv, criterion, optimizer_conv,\n",
    "                         exp_lr_scheduler, num_epochs=25)"
   ]
  },
  {
   "cell_type": "code",
   "execution_count": null,
   "metadata": {},
   "outputs": [],
   "source": [
    "visualize_model(model_conv)"
   ]
  },
  {
   "cell_type": "markdown",
   "metadata": {},
   "source": [
    "##### Alexnet"
   ]
  },
  {
   "cell_type": "code",
   "execution_count": 15,
   "metadata": {},
   "outputs": [],
   "source": [
    "model_conv = torchvision.models.alexnet(pretrained=True)\n",
    "for param in model_conv.parameters():\n",
    "    param.requires_grad = False\n",
    "\n",
    "# print(model_conv)\n",
    "# Parameters of newly constructed modules have requires_grad=True by default\n",
    "\n",
    "model_conv.classifier[6].out_features = 2\n",
    "for param in model_conv.classifier[6].parameters():\n",
    "    param.requires_grad = True\n",
    "\n",
    "if use_gpu:\n",
    "    model_conv = model_conv.cuda()\n",
    "\n",
    "criterion = nn.CrossEntropyLoss()\n",
    "\n",
    "# Observe that only parameters of final layer are being optimized as\n",
    "# opoosed to before.\n",
    "optimizer_conv = optim.SGD(model_conv.classifier[6].parameters(), lr=0.001, momentum=0.9)\n",
    "\n",
    "# Decay LR by a factor of 0.1 every 7 epochs\n",
    "exp_lr_scheduler = lr_scheduler.StepLR(optimizer_conv, step_size=7, gamma=0.1)"
   ]
  },
  {
   "cell_type": "code",
   "execution_count": 16,
   "metadata": {
    "scrolled": true
   },
   "outputs": [
    {
     "name": "stdout",
     "output_type": "stream",
     "text": [
      "Epoch 0/24\n",
      "----------\n",
      "train Loss: 2.5573 Acc: 0.7049\n",
      "val Loss: 1.3535 Acc: 0.8758\n",
      "\n",
      "Epoch 1/24\n",
      "----------\n",
      "train Loss: 0.7508 Acc: 0.8689\n",
      "val Loss: 1.0144 Acc: 0.8627\n",
      "\n",
      "Epoch 2/24\n",
      "----------\n",
      "train Loss: 0.7164 Acc: 0.8934\n",
      "val Loss: 1.0871 Acc: 0.8758\n",
      "\n",
      "Epoch 3/24\n",
      "----------\n",
      "train Loss: 0.4486 Acc: 0.9262\n",
      "val Loss: 1.1570 Acc: 0.8693\n",
      "\n",
      "Epoch 4/24\n",
      "----------\n",
      "train Loss: 0.5225 Acc: 0.9098\n",
      "val Loss: 1.1528 Acc: 0.8889\n",
      "\n",
      "Epoch 5/24\n",
      "----------\n",
      "train Loss: 0.3545 Acc: 0.9467\n",
      "val Loss: 0.8817 Acc: 0.8824\n",
      "\n",
      "Epoch 6/24\n",
      "----------\n",
      "train Loss: 0.5429 Acc: 0.9262\n",
      "val Loss: 1.0690 Acc: 0.8889\n",
      "\n",
      "Epoch 7/24\n",
      "----------\n",
      "train Loss: 0.3805 Acc: 0.9180\n",
      "val Loss: 0.9644 Acc: 0.8954\n",
      "\n",
      "Epoch 8/24\n",
      "----------\n",
      "train Loss: 0.2890 Acc: 0.9344\n",
      "val Loss: 0.9490 Acc: 0.8889\n",
      "\n",
      "Epoch 9/24\n",
      "----------\n",
      "train Loss: 0.2545 Acc: 0.9549\n",
      "val Loss: 0.9602 Acc: 0.8954\n",
      "\n",
      "Epoch 10/24\n",
      "----------\n",
      "train Loss: 0.3730 Acc: 0.9303\n",
      "val Loss: 0.9060 Acc: 0.8954\n",
      "\n",
      "Epoch 11/24\n",
      "----------\n",
      "train Loss: 0.1554 Acc: 0.9631\n",
      "val Loss: 0.8850 Acc: 0.8889\n",
      "\n",
      "Epoch 12/24\n",
      "----------\n",
      "train Loss: 0.1752 Acc: 0.9549\n",
      "val Loss: 0.8578 Acc: 0.8954\n",
      "\n",
      "Epoch 13/24\n",
      "----------\n",
      "train Loss: 0.2050 Acc: 0.9467\n",
      "val Loss: 0.8248 Acc: 0.9085\n",
      "\n",
      "Epoch 14/24\n",
      "----------\n",
      "train Loss: 0.1190 Acc: 0.9590\n",
      "val Loss: 0.8249 Acc: 0.9085\n",
      "\n",
      "Epoch 15/24\n",
      "----------\n",
      "train Loss: 0.2131 Acc: 0.9467\n",
      "val Loss: 0.8232 Acc: 0.9085\n",
      "\n",
      "Epoch 16/24\n",
      "----------\n",
      "train Loss: 0.1779 Acc: 0.9467\n",
      "val Loss: 0.8227 Acc: 0.9085\n",
      "\n",
      "Epoch 17/24\n",
      "----------\n",
      "train Loss: 0.2216 Acc: 0.9426\n",
      "val Loss: 0.8220 Acc: 0.9085\n",
      "\n",
      "Epoch 18/24\n",
      "----------\n",
      "train Loss: 0.1043 Acc: 0.9713\n",
      "val Loss: 0.8199 Acc: 0.9085\n",
      "\n",
      "Epoch 19/24\n",
      "----------\n",
      "train Loss: 0.1545 Acc: 0.9631\n",
      "val Loss: 0.8196 Acc: 0.9085\n",
      "\n",
      "Epoch 20/24\n",
      "----------\n",
      "train Loss: 0.1123 Acc: 0.9795\n",
      "val Loss: 0.8183 Acc: 0.9020\n",
      "\n",
      "Epoch 21/24\n",
      "----------\n",
      "train Loss: 0.1730 Acc: 0.9590\n",
      "val Loss: 0.8183 Acc: 0.9020\n",
      "\n",
      "Epoch 22/24\n",
      "----------\n",
      "train Loss: 0.1510 Acc: 0.9713\n",
      "val Loss: 0.8181 Acc: 0.9020\n",
      "\n",
      "Epoch 23/24\n",
      "----------\n",
      "train Loss: 0.1899 Acc: 0.9631\n",
      "val Loss: 0.8179 Acc: 0.9020\n",
      "\n",
      "Epoch 24/24\n",
      "----------\n",
      "train Loss: 0.1700 Acc: 0.9590\n",
      "val Loss: 0.8181 Acc: 0.9020\n",
      "\n",
      "Training complete in 0m 32s\n",
      "Best val Acc: 0.908497\n"
     ]
    }
   ],
   "source": [
    "model_conv = train_model(model_conv, criterion, optimizer_conv,\n",
    "                         exp_lr_scheduler, num_epochs=25)"
   ]
  },
  {
   "cell_type": "markdown",
   "metadata": {},
   "source": [
    "### Test pretrained model"
   ]
  },
  {
   "cell_type": "code",
   "execution_count": 9,
   "metadata": {},
   "outputs": [
    {
     "name": "stderr",
     "output_type": "stream",
     "text": [
      "/usr/shared/CMPT/big-data/tmp_py/dlenv/lib/python3.6/site-packages/torchvision/transforms/transforms.py:156: UserWarning: The use of the transforms.Scale transform is deprecated, please use transforms.Resize instead.\n",
      "  \"please use transforms.Resize instead.\")\n"
     ]
    },
    {
     "data": {
      "image/png": "[encoded data removed]",
      "text/plain": [
       "<PIL.JpegImagePlugin.JpegImageFile image mode=RGB size=400x279 at 0x7F2D918D0588>"
      ]
     },
     "execution_count": 9,
     "metadata": {},
     "output_type": "execute_result"
    }
   ],
   "source": [
    "from PIL import Image\n",
    "\n",
    "normalize = transforms.Normalize(\n",
    "   mean=[0.485, 0.456, 0.406],\n",
    "   std=[0.229, 0.224, 0.225]\n",
    ")\n",
    "preprocess = transforms.Compose([\n",
    "   transforms.Scale(256),\n",
    "   transforms.CenterCrop(224),\n",
    "   transforms.ToTensor(),\n",
    "   normalize\n",
    "])\n",
    "\n",
    "img_pil = Image.open('test_img.jpg')\n",
    "img_pil"
   ]
  },
  {
   "cell_type": "code",
   "execution_count": 10,
   "metadata": {},
   "outputs": [
    {
     "data": {
      "text/plain": [
       "\n",
       "( 0 , 0 ,.,.) = \n",
       "  2.0263  2.0092  2.0263  ...   2.0263  2.0263  2.0263\n",
       "  2.0263  2.0092  2.0263  ...   2.0263  2.0263  2.0263\n",
       "  2.0263  2.0263  2.0092  ...   2.0263  2.0263  2.0263\n",
       "           ...             ⋱             ...          \n",
       "  1.9064  1.9235  1.9064  ...   1.8379  1.8379  1.8379\n",
       "  1.9064  1.9235  1.9235  ...   1.8379  1.8379  1.8550\n",
       "  1.9235  1.9235  1.9235  ...   1.8722  1.8550  1.8550\n",
       "\n",
       "( 0 , 1 ,.,.) = \n",
       "  2.2710  2.3060  2.3235  ...   2.2710  2.2710  2.2710\n",
       "  2.2710  2.2885  2.3060  ...   2.2710  2.2710  2.2710\n",
       "  2.2710  2.2710  2.2885  ...   2.2710  2.2710  2.2710\n",
       "           ...             ⋱             ...          \n",
       "  2.1485  2.1660  2.1485  ...   2.0784  2.0784  2.0784\n",
       "  2.1485  2.1660  2.1660  ...   2.0784  2.0784  2.0959\n",
       "  2.1660  2.1660  2.1660  ...   2.1134  2.0959  2.0959\n",
       "\n",
       "( 0 , 2 ,.,.) = \n",
       "  2.5006  2.5180  2.5354  ...   2.4831  2.5006  2.5006\n",
       "  2.5006  2.5006  2.5180  ...   2.5006  2.5006  2.5006\n",
       "  2.5006  2.5006  2.5006  ...   2.5006  2.5006  2.5006\n",
       "           ...             ⋱             ...          \n",
       "  2.3786  2.3960  2.3786  ...   2.3088  2.3088  2.3088\n",
       "  2.3786  2.3960  2.3960  ...   2.3088  2.3088  2.3263\n",
       "  2.3960  2.3960  2.3960  ...   2.3437  2.3263  2.3263\n",
       "[torch.FloatTensor of size 1x3x224x224]"
      ]
     },
     "execution_count": 10,
     "metadata": {},
     "output_type": "execute_result"
    }
   ],
   "source": [
    "img_tensor = preprocess(img_pil)\n",
    "img_tensor.unsqueeze_(0)"
   ]
  },
  {
   "cell_type": "code",
   "execution_count": 11,
   "metadata": {},
   "outputs": [],
   "source": [
    "model_conv = torchvision.models.vgg19(pretrained=True)\n",
    "\n",
    "img_variable = Variable(img_tensor)\n",
    "fc_out = model_conv(img_variable)"
   ]
  },
  {
   "cell_type": "code",
   "execution_count": 12,
   "metadata": {},
   "outputs": [
    {
     "name": "stdout",
     "output_type": "stream",
     "text": [
      "Walker hound, Walker foxhound\n"
     ]
    }
   ],
   "source": [
    "import requests\n",
    "LABELS_URL = 'https://s3.amazonaws.com/outcome-blog/imagenet/labels.json'\n",
    "\n",
    "labels = {int(key):value for (key, value)\n",
    "          in requests.get(LABELS_URL).json().items()}\n",
    "\n",
    "print(labels[fc_out.data.numpy().argmax()])"
   ]
  },
  {
   "cell_type": "markdown",
   "metadata": {},
   "source": [
    "##### It is a walker hound dog"
   ]
  },
  {
   "cell_type": "markdown",
   "metadata": {},
   "source": [
    "## Submission"
   ]
  },
  {
   "cell_type": "markdown",
   "metadata": {},
   "source": [
    "For task 1 add your changes to the cells in this notebook.\n",
    "\n",
    "For task 2 append the required fields of the the transfer learning tutorial to this notebook and make the required modifications. Ensure that you have clear section headings that show where you undertake which parts of the question.\n",
    "\n",
    "Save [this notebook](A5-instruction.ipynb) containing all images and upload your submission as one A5.ipynb file."
   ]
  }
 ],
 "metadata": {
  "kernelspec": {
   "display_name": "Python 3",
   "language": "python",
   "name": "python3"
  },
  "language_info": {
   "codemirror_mode": {
    "name": "ipython",
    "version": 3
   },
   "file_extension": ".py",
   "mimetype": "text/x-python",
   "name": "python",
   "nbconvert_exporter": "python",
   "pygments_lexer": "ipython3",
   "version": "3.6.4"
  }
 },
 "nbformat": 4,
 "nbformat_minor": 2
}

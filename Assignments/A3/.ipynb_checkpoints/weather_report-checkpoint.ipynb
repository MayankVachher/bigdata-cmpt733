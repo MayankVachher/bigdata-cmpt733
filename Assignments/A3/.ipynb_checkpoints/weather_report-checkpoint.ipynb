{
 "cells": [
  {
   "cell_type": "markdown",
   "metadata": {},
   "source": [
    "# Part 2a\n",
    "\n",
    "We find that the earth was warmer in the year 2001 as compared to the year 2000. This can be evidently seen through the top half of the earth becoming more red (indicated as hotter in the scale).\n",
    "![title](Graphs/2a_2000.png)"
   ]
  },
  {
   "cell_type": "markdown",
   "metadata": {},
   "source": [
    "![title](Graphs/2a_2001_refresh.png)"
   ]
  },
  {
   "cell_type": "markdown",
   "metadata": {},
   "source": [
    "# Part 2b\n",
    "\n",
    "## Heat map\n",
    "\n",
    "Our regression model is performing really badly since we can see stretches of tiles being labelled as the same temperature. Our model is not able to be precise. Surprisingly it is working quite well for the points near the equator.\n",
    "![title](Graphs/2b1_heat.png)"
   ]
  },
  {
   "cell_type": "markdown",
   "metadata": {},
   "source": [
    "As seen from the heat map as well, the absolute error between the prediction and the true value is very low for points near the equator and higher for the points closer to the poles.\n",
    "![title](Graphs/2b2_regression_error.png)"
   ]
  }
 ],
 "metadata": {
  "kernelspec": {
   "display_name": "Python 3",
   "language": "python",
   "name": "python3"
  },
  "language_info": {
   "codemirror_mode": {
    "name": "ipython",
    "version": 3
   },
   "file_extension": ".py",
   "mimetype": "text/x-python",
   "name": "python",
   "nbconvert_exporter": "python",
   "pygments_lexer": "ipython3",
   "version": "3.6.2"
  }
 },
 "nbformat": 4,
 "nbformat_minor": 2
}
